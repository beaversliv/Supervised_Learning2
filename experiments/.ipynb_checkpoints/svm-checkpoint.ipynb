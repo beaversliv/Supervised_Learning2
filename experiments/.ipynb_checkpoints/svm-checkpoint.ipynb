{
 "cells": [
  {
   "cell_type": "markdown",
   "metadata": {},
   "source": [
    "## Set Up\n",
    "\n",
    "We import our code and any frequently used libraries, and set up our data."
   ]
  },
  {
   "cell_type": "code",
   "execution_count": 1,
   "metadata": {},
   "outputs": [],
   "source": [
    "DATA_PATH = '../data/zipcombo.dat'\n",
    "SRC_PATH = '..'"
   ]
  },
  {
   "cell_type": "code",
   "execution_count": 2,
   "metadata": {},
   "outputs": [],
   "source": [
    "import os\n",
    "import sys\n",
    "module_path = os.path.abspath(os.path.join(SRC_PATH))\n",
    "if module_path not in sys.path:\n",
    "    sys.path.append(module_path) \n",
    "    "
   ]
  },
  {
   "cell_type": "code",
   "execution_count": 3,
   "metadata": {},
   "outputs": [],
   "source": [
    "%load_ext autoreload\n",
    "%autoreload 2"
   ]
  },
  {
   "cell_type": "code",
   "execution_count": 4,
   "metadata": {},
   "outputs": [],
   "source": [
    "import pandas as pd\n",
    "import numpy as np\n",
    "from tqdm import tqdm\n",
    "from sklearn.model_selection import train_test_split"
   ]
  },
  {
   "cell_type": "code",
   "execution_count": 5,
   "metadata": {},
   "outputs": [],
   "source": [
    "from sklearn.svm import SVC"
   ]
  },
  {
   "cell_type": "code",
   "execution_count": 47,
   "metadata": {},
   "outputs": [],
   "source": [
    "df = pd.read_csv(DATA_PATH, sep=' ', header=None).drop(columns=[257])\n",
    "df.rename(columns={0: 'label'}, inplace=True)\n",
    "X = df[list(range(1, 257))].values\n",
    "y = df['label'].values.astype(np.int)"
   ]
  },
  {
   "cell_type": "code",
   "execution_count": 7,
   "metadata": {},
   "outputs": [],
   "source": [
    "# we do not currently use subsampling, but we keep the function for testing purposes\n",
    "\n",
    "def subsample(df, classes, sample_size=100):\n",
    "    # sampling\n",
    "    df_small = pd.DataFrame()\n",
    "    for clazz in classes:\n",
    "        df_clazz = df[df['y'] == clazz]\n",
    "        df_sample = df_clazz.sample(sample_size)\n",
    "        df_small = df_small.append(df_sample)\n",
    "\n",
    "    #shuffle\n",
    "    df_small = df_small.sample(frac=1.)\n",
    "\n",
    "    X_small = df_small.drop(columns='y').values\n",
    "    y_small = df_small['y'].values\n",
    "    \n",
    "    return X_small, y_small"
   ]
  },
  {
   "cell_type": "code",
   "execution_count": 43,
   "metadata": {},
   "outputs": [],
   "source": [
    "df = pd.DataFrame(X)\n",
    "df['y'] = y\n",
    "X, y = subsample(df, list(range(10)), sample_size=50)\n",
    "X_train, X_test, y_train, y_test = train_test_split(X, y, train_size=0.8, test_size=0.2)"
   ]
  },
  {
   "cell_type": "code",
   "execution_count": 48,
   "metadata": {},
   "outputs": [],
   "source": [
    "X_train, X_test, y_train, y_test = train_test_split(X, y, train_size=0.8, test_size=0.2)"
   ]
  },
  {
   "cell_type": "code",
   "execution_count": 49,
   "metadata": {},
   "outputs": [
    {
     "data": {
      "text/plain": [
       "(7438, 256)"
      ]
     },
     "execution_count": 49,
     "metadata": {},
     "output_type": "execute_result"
    }
   ],
   "source": [
    "X_train.shape"
   ]
  },
  {
   "cell_type": "markdown",
   "metadata": {},
   "source": [
    "## Exercise"
   ]
  },
  {
   "cell_type": "code",
   "execution_count": 9,
   "metadata": {},
   "outputs": [],
   "source": [
    "from sklearn.model_selection import train_test_split\n",
    "from sklearn.metrics import accuracy_score\n",
    "\n",
    "def error_score(y, y_pred):\n",
    "    return 1 - accuracy_score(y, y_pred)"
   ]
  },
  {
   "cell_type": "markdown",
   "metadata": {},
   "source": [
    "### 1. Basic Results\n",
    "We split our data into 80%/20% train and test. We perform 20 runs for $d = 1, ..., 7$, and report the mean test and training errors with their standard deviations."
   ]
  },
  {
   "cell_type": "code",
   "execution_count": 38,
   "metadata": {},
   "outputs": [],
   "source": [
    "# define basic run for part 1.1\n",
    "\n",
    "def basic_run(X_train, X_test, y_train, y_test, c):   \n",
    "    \n",
    "    #fit model\n",
    "    ksvm = SVC(C=c, kernel='rbf', gamma='scale', shrinking=False)\n",
    "    ksvm.fit(X_train, y_train)\n",
    "    \n",
    "    #return errors\n",
    "    error_train = error_score(y_train, ksvm.predict(X_train))\n",
    "    error_test = error_score(y_test, ksvm.predict(X_test))\n",
    "    \n",
    "    return {'err_train': error_train, 'err_test': error_test, 'model': ksvm}"
   ]
  },
  {
   "cell_type": "code",
   "execution_count": 39,
   "metadata": {
    "scrolled": true
   },
   "outputs": [
    {
     "name": "stderr",
     "output_type": "stream",
     "text": [
      "\n",
      "\n",
      "  0%|                                                                                           | 0/20 [00:00<?, ?it/s]\n",
      "\n",
      "  5%|████▏                                                                              | 1/20 [01:08<21:48, 68.88s/it]\n",
      "\n",
      " 10%|████████▎                                                                          | 2/20 [02:17<20:40, 68.94s/it]\n",
      "\n",
      " 15%|████████████▍                                                                      | 3/20 [03:26<19:29, 68.79s/it]\n",
      "\n",
      " 20%|████████████████▌                                                                  | 4/20 [04:36<18:26, 69.15s/it]\n",
      "\n",
      " 25%|████████████████████▊                                                              | 5/20 [05:45<17:16, 69.11s/it]\n",
      "\n",
      " 30%|████████████████████████▉                                                          | 6/20 [06:52<16:00, 68.59s/it]\n",
      "\n",
      " 35%|█████████████████████████████                                                      | 7/20 [08:02<14:54, 68.79s/it]\n",
      "\n",
      " 40%|█████████████████████████████████▏                                                 | 8/20 [09:08<13:36, 68.02s/it]\n",
      "\n",
      " 45%|█████████████████████████████████████▎                                             | 9/20 [10:14<12:22, 67.50s/it]\n",
      "\n",
      " 50%|█████████████████████████████████████████                                         | 10/20 [11:22<11:15, 67.59s/it]\n",
      "\n",
      " 55%|█████████████████████████████████████████████                                     | 11/20 [12:30<10:09, 67.75s/it]\n",
      "\n",
      " 60%|█████████████████████████████████████████████████▏                                | 12/20 [13:38<09:02, 67.83s/it]\n",
      "\n",
      " 65%|█████████████████████████████████████████████████████▎                            | 13/20 [14:45<07:53, 67.64s/it]\n",
      "\n",
      " 70%|█████████████████████████████████████████████████████████▍                        | 14/20 [15:52<06:43, 67.26s/it]\n",
      "\n",
      " 75%|█████████████████████████████████████████████████████████████▌                    | 15/20 [16:59<05:36, 67.32s/it]\n",
      "\n",
      " 80%|█████████████████████████████████████████████████████████████████▌                | 16/20 [18:07<04:29, 67.40s/it]\n",
      "\n",
      " 85%|█████████████████████████████████████████████████████████████████████▋            | 17/20 [19:14<03:22, 67.48s/it]\n",
      "\n",
      " 90%|█████████████████████████████████████████████████████████████████████████▊        | 18/20 [20:21<02:14, 67.15s/it]\n",
      "\n",
      " 95%|█████████████████████████████████████████████████████████████████████████████▉    | 19/20 [21:28<01:07, 67.14s/it]\n",
      "\n",
      "100%|██████████████████████████████████████████████████████████████████████████████████| 20/20 [22:35<00:00, 67.27s/it]"
     ]
    }
   ],
   "source": [
    "# perform basic runs\n",
    "iterations = 20\n",
    "cs = list(np.arange(1, 3.5, 0.5))\n",
    "err_train = {c: [] for c in cs}\n",
    "err_test = {c: [] for c in cs}\n",
    "\n",
    "for iteration in tqdm(list(range(iterations))):\n",
    "    # split data\n",
    "    X_train, X_test, y_train, y_test = train_test_split(X, y, train_size=0.8, test_size=0.2)\n",
    "    \n",
    "    for c in cs:\n",
    "        #split data\n",
    "        results = basic_run(X_train, X_test, y_train, y_test, c)\n",
    "        err_train[c].append(results['err_train'])\n",
    "        err_test[c].append(results['err_test'])\n",
    "    \n",
    "err_train_mean = {c: np.mean(errs) for c, errs in err_train.items()}\n",
    "err_test_mean = {c: np.mean(errs) for c, errs in err_test.items()}\n",
    "err_train_std = {c: np.std(errs) for c, errs in err_train.items()}\n",
    "err_test_std = {c: np.std(errs) for c, errs in err_test.items()}"
   ]
  },
  {
   "cell_type": "code",
   "execution_count": 40,
   "metadata": {},
   "outputs": [
    {
     "data": {
      "text/html": [
       "<div>\n",
       "<style scoped>\n",
       "    .dataframe tbody tr th:only-of-type {\n",
       "        vertical-align: middle;\n",
       "    }\n",
       "\n",
       "    .dataframe tbody tr th {\n",
       "        vertical-align: top;\n",
       "    }\n",
       "\n",
       "    .dataframe thead th {\n",
       "        text-align: right;\n",
       "    }\n",
       "</style>\n",
       "<table border=\"1\" class=\"dataframe\">\n",
       "  <thead>\n",
       "    <tr style=\"text-align: right;\">\n",
       "      <th></th>\n",
       "      <th>train_mean</th>\n",
       "      <th>test_mean</th>\n",
       "      <th>train_std</th>\n",
       "      <th>test_std</th>\n",
       "    </tr>\n",
       "  </thead>\n",
       "  <tbody>\n",
       "    <tr>\n",
       "      <th>1.0</th>\n",
       "      <td>0.008840</td>\n",
       "      <td>0.025968</td>\n",
       "      <td>0.000607</td>\n",
       "      <td>0.003575</td>\n",
       "    </tr>\n",
       "    <tr>\n",
       "      <th>1.5</th>\n",
       "      <td>0.004376</td>\n",
       "      <td>0.024032</td>\n",
       "      <td>0.000497</td>\n",
       "      <td>0.003706</td>\n",
       "    </tr>\n",
       "    <tr>\n",
       "      <th>2.0</th>\n",
       "      <td>0.002743</td>\n",
       "      <td>0.022876</td>\n",
       "      <td>0.000260</td>\n",
       "      <td>0.003515</td>\n",
       "    </tr>\n",
       "    <tr>\n",
       "      <th>2.5</th>\n",
       "      <td>0.001728</td>\n",
       "      <td>0.022688</td>\n",
       "      <td>0.000263</td>\n",
       "      <td>0.003321</td>\n",
       "    </tr>\n",
       "    <tr>\n",
       "      <th>3.0</th>\n",
       "      <td>0.001324</td>\n",
       "      <td>0.022204</td>\n",
       "      <td>0.000149</td>\n",
       "      <td>0.003489</td>\n",
       "    </tr>\n",
       "  </tbody>\n",
       "</table>\n",
       "</div>"
      ],
      "text/plain": [
       "     train_mean  test_mean  train_std  test_std\n",
       "1.0    0.008840   0.025968   0.000607  0.003575\n",
       "1.5    0.004376   0.024032   0.000497  0.003706\n",
       "2.0    0.002743   0.022876   0.000260  0.003515\n",
       "2.5    0.001728   0.022688   0.000263  0.003321\n",
       "3.0    0.001324   0.022204   0.000149  0.003489"
      ]
     },
     "execution_count": 40,
     "metadata": {},
     "output_type": "execute_result"
    }
   ],
   "source": [
    "# display in dataframe\n",
    "df_err = pd.DataFrame([err_train_mean, err_test_mean,\n",
    "                       err_train_std, err_test_std], \n",
    "                       index=['train_mean', 'test_mean', 'train_std', 'test_std'], \n",
    "                       columns=cs).T\n",
    "df_err"
   ]
  },
  {
   "cell_type": "markdown",
   "metadata": {},
   "source": [
    "___"
   ]
  },
  {
   "cell_type": "markdown",
   "metadata": {},
   "source": [
    "### 2. Cross-validation\n",
    "\n",
    "We split our data into 80%/20% train and test. We then use 5-fold cross validation to find our best $d^*$ parameter for $d^* \\in \\{1, ..., 7\\}$. We then retrain our optimal kernelised perceptron on the full training set, and calculate training and test errors over 20 runs. We report the mean test and training errors for this perceptron, as well as its standard deviations."
   ]
  },
  {
   "cell_type": "code",
   "execution_count": 41,
   "metadata": {},
   "outputs": [],
   "source": [
    "def make_fold_indices(n, num_folds=5):\n",
    "    ixs = np.array(range(n))\n",
    "    np.random.shuffle(ixs)\n",
    "    folds = np.array_split(ixs, num_folds)\n",
    "    fold_ixs = np.zeros(n)\n",
    "    for i in range(num_folds):\n",
    "        fold_ixs[folds[i]] = i\n",
    "    return fold_ixs"
   ]
  },
  {
   "cell_type": "code",
   "execution_count": 42,
   "metadata": {},
   "outputs": [],
   "source": [
    "# generate k folds and perform cross-validation on them, returning error per fold.\n",
    "def cross_validation_error(X, y, c, num_folds=5):\n",
    "    fold_ixs = make_fold_indices(len(X), num_folds=num_folds)\n",
    "\n",
    "    cv_errs = []\n",
    "    for fold_ix in np.unique(fold_ixs):\n",
    "        X_val = X[fold_ixs == fold_ix]\n",
    "        y_val = y[fold_ixs == fold_ix]\n",
    "        X_train = X[fold_ixs != fold_ix]\n",
    "        y_train = y[fold_ixs != fold_ix]\n",
    "        \n",
    "        #fit model\n",
    "        ksvm = SVC(C=c, kernel='rbf', gamma='scale')\n",
    "        ksvm.fit(X_train, y_train)\n",
    "        \n",
    "        #record validation fold error\n",
    "        cv_errs.append(error_score(y_val, ksvm.predict(X_val)))\n",
    "        \n",
    "    return np.mean(cv_errs)"
   ]
  },
  {
   "cell_type": "code",
   "execution_count": 50,
   "metadata": {},
   "outputs": [
    {
     "name": "stderr",
     "output_type": "stream",
     "text": [
      "\n",
      "\n",
      "  0%|                                                                                           | 0/20 [00:00<?, ?it/s]\n",
      "\n",
      "  5%|████                                                                              | 1/20 [02:22<45:00, 142.12s/it]\n",
      "\n",
      " 10%|████████▏                                                                         | 2/20 [04:38<42:08, 140.48s/it]\n",
      "\n",
      " 15%|████████████▎                                                                     | 3/20 [06:55<39:28, 139.32s/it]\n",
      "\n",
      " 20%|████████████████▍                                                                 | 4/20 [09:11<36:51, 138.25s/it]\n",
      "\n",
      " 25%|████████████████████▌                                                             | 5/20 [11:28<34:27, 137.85s/it]\n",
      "\n",
      " 30%|████████████████████████▌                                                         | 6/20 [13:43<32:01, 137.25s/it]\n",
      "\n",
      " 35%|████████████████████████████▋                                                     | 7/20 [16:02<29:49, 137.69s/it]\n",
      "\n",
      " 40%|████████████████████████████████▊                                                 | 8/20 [18:26<27:53, 139.46s/it]\n",
      "\n",
      " 45%|████████████████████████████████████▉                                             | 9/20 [20:45<25:32, 139.32s/it]\n",
      "\n",
      " 50%|████████████████████████████████████████▌                                        | 10/20 [23:01<23:04, 138.43s/it]\n",
      "\n",
      " 55%|████████████████████████████████████████████▌                                    | 11/20 [25:22<20:51, 139.10s/it]\n",
      "\n",
      " 60%|████████████████████████████████████████████████▌                                | 12/20 [27:45<18:42, 140.28s/it]\n",
      "\n",
      " 65%|████████████████████████████████████████████████████▋                            | 13/20 [30:00<16:10, 138.64s/it]\n",
      "\n",
      " 70%|████████████████████████████████████████████████████████▋                        | 14/20 [32:10<13:37, 136.31s/it]\n",
      "\n",
      " 75%|████████████████████████████████████████████████████████████▊                    | 15/20 [34:35<11:33, 138.74s/it]\n",
      "\n",
      " 80%|████████████████████████████████████████████████████████████████▊                | 16/20 [36:53<09:14, 138.52s/it]\n",
      "\n",
      " 85%|████████████████████████████████████████████████████████████████████▊            | 17/20 [39:10<06:53, 138.00s/it]\n",
      "\n",
      " 90%|████████████████████████████████████████████████████████████████████████▉        | 18/20 [41:26<04:34, 137.43s/it]\n",
      "\n",
      " 95%|████████████████████████████████████████████████████████████████████████████▉    | 19/20 [43:40<02:16, 136.44s/it]\n",
      "\n",
      "100%|█████████████████████████████████████████████████████████████████████████████████| 20/20 [45:55<00:00, 135.98s/it]"
     ]
    }
   ],
   "source": [
    "# perform cross-validation runs\n",
    "\n",
    "iterations = 20\n",
    "cs = list(np.arange(1, 3.5, 0.5))\n",
    "errs_cv = {}\n",
    "\n",
    "c_stars = []\n",
    "errs_test = []\n",
    "for iteration in tqdm(list(range(iterations))):\n",
    "    # split data\n",
    "    X_train, X_test, y_train, y_test = train_test_split(X, y, train_size=0.8, test_size=0.2)\n",
    "    \n",
    "    # perform cross validations\n",
    "    for c in cs:\n",
    "        errs_cv[c] = cross_validation_error(X_train, y_train, c)\n",
    "        \n",
    "    # get best parameter\n",
    "    c_star = min(errs_cv, key=errs_cv.get)\n",
    "    c_stars.append(c_star)\n",
    "    \n",
    "    # get final error\n",
    "    results = basic_run(X_train, X_test, y_train, y_test, c)\n",
    "    errs_test.append(results['err_test'])\n",
    "        \n",
    "# compute results   \n",
    "err_test_mean = np.mean(errs_test)\n",
    "c_star_mean = np.mean(c_stars)\n",
    "err_test_std = np.std(errs_test)\n",
    "c_star_std = np.std(c_stars)"
   ]
  },
  {
   "cell_type": "code",
   "execution_count": 51,
   "metadata": {},
   "outputs": [
    {
     "data": {
      "text/html": [
       "<div>\n",
       "<style scoped>\n",
       "    .dataframe tbody tr th:only-of-type {\n",
       "        vertical-align: middle;\n",
       "    }\n",
       "\n",
       "    .dataframe tbody tr th {\n",
       "        vertical-align: top;\n",
       "    }\n",
       "\n",
       "    .dataframe thead th {\n",
       "        text-align: right;\n",
       "    }\n",
       "</style>\n",
       "<table border=\"1\" class=\"dataframe\">\n",
       "  <thead>\n",
       "    <tr style=\"text-align: right;\">\n",
       "      <th></th>\n",
       "      <th>sigma_stars</th>\n",
       "      <th>test_errors</th>\n",
       "    </tr>\n",
       "  </thead>\n",
       "  <tbody>\n",
       "    <tr>\n",
       "      <th>0</th>\n",
       "      <td>2.5</td>\n",
       "      <td>0.022043</td>\n",
       "    </tr>\n",
       "    <tr>\n",
       "      <th>1</th>\n",
       "      <td>3.0</td>\n",
       "      <td>0.024194</td>\n",
       "    </tr>\n",
       "    <tr>\n",
       "      <th>2</th>\n",
       "      <td>3.0</td>\n",
       "      <td>0.015591</td>\n",
       "    </tr>\n",
       "    <tr>\n",
       "      <th>3</th>\n",
       "      <td>3.0</td>\n",
       "      <td>0.024194</td>\n",
       "    </tr>\n",
       "    <tr>\n",
       "      <th>4</th>\n",
       "      <td>3.0</td>\n",
       "      <td>0.020430</td>\n",
       "    </tr>\n",
       "    <tr>\n",
       "      <th>5</th>\n",
       "      <td>2.0</td>\n",
       "      <td>0.026882</td>\n",
       "    </tr>\n",
       "    <tr>\n",
       "      <th>6</th>\n",
       "      <td>2.5</td>\n",
       "      <td>0.026344</td>\n",
       "    </tr>\n",
       "    <tr>\n",
       "      <th>7</th>\n",
       "      <td>2.5</td>\n",
       "      <td>0.019355</td>\n",
       "    </tr>\n",
       "    <tr>\n",
       "      <th>8</th>\n",
       "      <td>3.0</td>\n",
       "      <td>0.019892</td>\n",
       "    </tr>\n",
       "    <tr>\n",
       "      <th>9</th>\n",
       "      <td>2.0</td>\n",
       "      <td>0.023656</td>\n",
       "    </tr>\n",
       "    <tr>\n",
       "      <th>10</th>\n",
       "      <td>2.0</td>\n",
       "      <td>0.021505</td>\n",
       "    </tr>\n",
       "    <tr>\n",
       "      <th>11</th>\n",
       "      <td>3.0</td>\n",
       "      <td>0.021505</td>\n",
       "    </tr>\n",
       "    <tr>\n",
       "      <th>12</th>\n",
       "      <td>2.5</td>\n",
       "      <td>0.022581</td>\n",
       "    </tr>\n",
       "    <tr>\n",
       "      <th>13</th>\n",
       "      <td>3.0</td>\n",
       "      <td>0.025806</td>\n",
       "    </tr>\n",
       "    <tr>\n",
       "      <th>14</th>\n",
       "      <td>2.5</td>\n",
       "      <td>0.022043</td>\n",
       "    </tr>\n",
       "    <tr>\n",
       "      <th>15</th>\n",
       "      <td>2.0</td>\n",
       "      <td>0.017204</td>\n",
       "    </tr>\n",
       "    <tr>\n",
       "      <th>16</th>\n",
       "      <td>3.0</td>\n",
       "      <td>0.024194</td>\n",
       "    </tr>\n",
       "    <tr>\n",
       "      <th>17</th>\n",
       "      <td>3.0</td>\n",
       "      <td>0.019355</td>\n",
       "    </tr>\n",
       "    <tr>\n",
       "      <th>18</th>\n",
       "      <td>3.0</td>\n",
       "      <td>0.020968</td>\n",
       "    </tr>\n",
       "    <tr>\n",
       "      <th>19</th>\n",
       "      <td>3.0</td>\n",
       "      <td>0.024731</td>\n",
       "    </tr>\n",
       "  </tbody>\n",
       "</table>\n",
       "</div>"
      ],
      "text/plain": [
       "    sigma_stars  test_errors\n",
       "0           2.5     0.022043\n",
       "1           3.0     0.024194\n",
       "2           3.0     0.015591\n",
       "3           3.0     0.024194\n",
       "4           3.0     0.020430\n",
       "5           2.0     0.026882\n",
       "6           2.5     0.026344\n",
       "7           2.5     0.019355\n",
       "8           3.0     0.019892\n",
       "9           2.0     0.023656\n",
       "10          2.0     0.021505\n",
       "11          3.0     0.021505\n",
       "12          2.5     0.022581\n",
       "13          3.0     0.025806\n",
       "14          2.5     0.022043\n",
       "15          2.0     0.017204\n",
       "16          3.0     0.024194\n",
       "17          3.0     0.019355\n",
       "18          3.0     0.020968\n",
       "19          3.0     0.024731"
      ]
     },
     "execution_count": 51,
     "metadata": {},
     "output_type": "execute_result"
    }
   ],
   "source": [
    "cv_data = {'sigma_stars': c_stars, 'test_errors': errs_test}\n",
    "df = pd.DataFrame(data=cv_data)\n",
    "df"
   ]
  },
  {
   "cell_type": "code",
   "execution_count": 52,
   "metadata": {},
   "outputs": [
    {
     "name": "stdout",
     "output_type": "stream",
     "text": [
      "Answer to 2:\n"
     ]
    },
    {
     "data": {
      "text/html": [
       "<div>\n",
       "<style scoped>\n",
       "    .dataframe tbody tr th:only-of-type {\n",
       "        vertical-align: middle;\n",
       "    }\n",
       "\n",
       "    .dataframe tbody tr th {\n",
       "        vertical-align: top;\n",
       "    }\n",
       "\n",
       "    .dataframe thead th {\n",
       "        text-align: right;\n",
       "    }\n",
       "</style>\n",
       "<table border=\"1\" class=\"dataframe\">\n",
       "  <thead>\n",
       "    <tr style=\"text-align: right;\">\n",
       "      <th></th>\n",
       "      <th>err_test</th>\n",
       "      <th>c_star</th>\n",
       "    </tr>\n",
       "  </thead>\n",
       "  <tbody>\n",
       "    <tr>\n",
       "      <th>mean</th>\n",
       "      <td>0.022124</td>\n",
       "      <td>2.675000</td>\n",
       "    </tr>\n",
       "    <tr>\n",
       "      <th>std</th>\n",
       "      <td>0.002902</td>\n",
       "      <td>0.396074</td>\n",
       "    </tr>\n",
       "  </tbody>\n",
       "</table>\n",
       "</div>"
      ],
      "text/plain": [
       "      err_test    c_star\n",
       "mean  0.022124  2.675000\n",
       "std   0.002902  0.396074"
      ]
     },
     "execution_count": 52,
     "metadata": {},
     "output_type": "execute_result"
    }
   ],
   "source": [
    "# display in dataframe\n",
    "df_err = pd.DataFrame([[err_test_mean, err_test_std],\n",
    "                       [c_star_mean, c_star_std]], \n",
    "                       columns=['mean', 'std'], index=['err_test', 'c_star']).T\n",
    "print(\"Answer to 2:\")\n",
    "df_err"
   ]
  },
  {
   "cell_type": "markdown",
   "metadata": {},
   "source": [
    "___\n",
    "___\n",
    "___"
   ]
  }
 ],
 "metadata": {
  "kernelspec": {
   "display_name": "Python 3",
   "language": "python",
   "name": "python3"
  },
  "language_info": {
   "codemirror_mode": {
    "name": "ipython",
    "version": 3
   },
   "file_extension": ".py",
   "mimetype": "text/x-python",
   "name": "python",
   "nbconvert_exporter": "python",
   "pygments_lexer": "ipython3",
   "version": "3.7.3"
  }
 },
 "nbformat": 4,
 "nbformat_minor": 2
}
