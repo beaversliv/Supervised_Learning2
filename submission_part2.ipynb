{
 "cells": [
  {
   "cell_type": "code",
   "execution_count": 3,
   "metadata": {},
   "outputs": [],
   "source": [
    "import random\n",
    "import numpy as np\n",
    "from sklearn.model_selection import train_test_split\n",
    "from scipy.spatial.distance import euclidean\n",
    "import matplotlib.pyplot as plt\n",
    "from tqdm import tqdm"
   ]
  },
  {
   "cell_type": "markdown",
   "metadata": {},
   "source": [
    "### Generate Data"
   ]
  },
  {
   "cell_type": "code",
   "execution_count": 13,
   "metadata": {},
   "outputs": [],
   "source": [
    "def generate_data(m, n):\n",
    "    a = [1, -1]\n",
    "    X = np.zeros((m, n))\n",
    "    y = np.zeros((m))\n",
    "    for i in range(0,m):\n",
    "        for j in range(0,n):\n",
    "            X[i,j] = random.choice(a)\n",
    "        y[i] = X[i, 0]\n",
    "    \n",
    "    return X, y"
   ]
  },
  {
   "cell_type": "markdown",
   "metadata": {},
   "source": [
    "## Algorithms"
   ]
  },
  {
   "cell_type": "markdown",
   "metadata": {},
   "source": [
    "Lets implement all the algorithms "
   ]
  },
  {
   "cell_type": "markdown",
   "metadata": {},
   "source": [
    "### Perceptron"
   ]
  },
  {
   "cell_type": "code",
   "execution_count": 19,
   "metadata": {},
   "outputs": [],
   "source": [
    "X, y = generate_data(30,30)\n",
    "X_test, y_test = generate_data(30, 30)"
   ]
  },
  {
   "cell_type": "code",
   "execution_count": 24,
   "metadata": {},
   "outputs": [],
   "source": [
    "def perceptron(X, y, X_test):\n",
    "    examples = X.shape[0]\n",
    "    dim = X.shape[1]\n",
    "    \n",
    "    # train\n",
    "    w = np.zeros(dim)\n",
    "    for i in range(examples):\n",
    "        y_pred = np.sign(np.dot(w, X[i]))\n",
    "        if y[i]*y_pred <= 0:\n",
    "            w += (y[i]*X[i])\n",
    "            \n",
    "    # test\n",
    "    print(w)\n",
    "    y_preds = np.sign(np.dot(X_test, w ))\n",
    "    return y_preds"
   ]
  },
  {
   "cell_type": "code",
   "execution_count": 25,
   "metadata": {},
   "outputs": [
    {
     "name": "stdout",
     "output_type": "stream",
     "text": [
      "[ 6.  0.  0.  0. -2. -2.  2.  0.  2.  2.  0. -2.  2.  2. -2.  2.  0.  0.\n",
      " -2.  2.  2.  0. -2.  0.  4.  0.  0. -2.  2.  0.]\n"
     ]
    },
    {
     "data": {
      "text/plain": [
       "array([-1., -1., -1.,  1., -1.,  1.,  1., -1., -1., -1., -1.,  1.,  1.,\n",
       "        1.,  1., -1., -1.,  1.,  1.,  1.,  1.,  1.,  1.,  1., -1.,  1.,\n",
       "        1., -1., -1.,  1.])"
      ]
     },
     "execution_count": 25,
     "metadata": {},
     "output_type": "execute_result"
    }
   ],
   "source": [
    "perceptron(X, y, X_test)"
   ]
  },
  {
   "cell_type": "markdown",
   "metadata": {},
   "source": [
    "### Winnow"
   ]
  },
  {
   "cell_type": "code",
   "execution_count": 6,
   "metadata": {},
   "outputs": [],
   "source": [
    "def winnow(X, y, X_test):\n",
    "    examples = X.shape[0]\n",
    "    dim = X.shape[1]\n",
    "        \n",
    "    # train\n",
    "    w = np.ones(dim)\n",
    "    for i in range(examples):\n",
    "        if np.dot(w, X[i]) < dim:\n",
    "            y_pred = 0\n",
    "        else:\n",
    "            y_pred = 1\n",
    "        if y[i] != y_pred:\n",
    "            w = w*(2**((y[i] - y_pred)*X[i]))\n",
    "            \n",
    "    # test  \n",
    "    y_preds = np.zeros(examples)\n",
    "    pos_ix = np.dot(X_test, w) >= dim\n",
    "    y_preds[pos_ix] = 1\n",
    "            \n",
    "    return y_preds"
   ]
  },
  {
   "cell_type": "markdown",
   "metadata": {},
   "source": [
    "### Least Squares"
   ]
  },
  {
   "cell_type": "code",
   "execution_count": 7,
   "metadata": {},
   "outputs": [],
   "source": [
    "def least_squares(X, y, X_test):\n",
    "    # train\n",
    "    coeffs = np.linalg.pinv(X.T.dot(X)).dot(X.T).dot(y)\n",
    "    \n",
    "    # test\n",
    "    y_preds = np.sign(X_test.dot(coeffs))\n",
    "    \n",
    "    return y_preds"
   ]
  },
  {
   "cell_type": "markdown",
   "metadata": {},
   "source": [
    "### 1-NN"
   ]
  },
  {
   "cell_type": "code",
   "execution_count": 8,
   "metadata": {},
   "outputs": [],
   "source": [
    "from scipy.spatial.distance import cdist\n",
    "\n",
    "def nn(X, y, X_test):\n",
    "    \n",
    "    #train \n",
    "    \n",
    "    #test\n",
    "    distances = cdist(X_test, X, metric='euclidean')\n",
    "    y_preds = y[np.argmin(distances, axis=1)]\n",
    "    \n",
    "    return y_preds"
   ]
  },
  {
   "cell_type": "markdown",
   "metadata": {},
   "source": [
    "## Approximate Sample Complexity"
   ]
  },
  {
   "cell_type": "markdown",
   "metadata": {},
   "source": [
    "Least Squares"
   ]
  },
  {
   "cell_type": "code",
   "execution_count": 10,
   "metadata": {},
   "outputs": [],
   "source": [
    "def sample_comp(max_n, algo, verbose=False):\n",
    "    s_comp = np.zeros(max_n)\n",
    "    for n in tqdm(range(1, max_n+1)):\n",
    "        m = 1\n",
    "        while True:\n",
    "            num_samples = m\n",
    "            #gen train data\n",
    "            X_train, y_train = generate_data(num_samples, n)\n",
    "            #gen test data\n",
    "            X_test, y_test = generate_data(30, n)                \n",
    "            #predict\n",
    "            y_pred = algo(X_train, y_train, X_test)\n",
    "            #find error rate\n",
    "            err_rate = 1-(np.sum(y_pred == y_test)/len(y_test))\n",
    "            if err_rate <= 0.1:\n",
    "                s_comp[n-1] = m\n",
    "                break\n",
    "            m += 1\n",
    "    if verbose:\n",
    "        plt.figure()\n",
    "        plt.plot(range(1,max_n + 1),s_comp)\n",
    "        plt.xlabel('dimension n')\n",
    "        plt.ylabel('sample complexity m')\n",
    "        plt.title('sample complexity')\n",
    "        plt.show()\n",
    "    return s_comp"
   ]
  },
  {
   "cell_type": "code",
   "execution_count": 11,
   "metadata": {},
   "outputs": [
    {
     "name": "stderr",
     "output_type": "stream",
     "text": [
      "100%|█████████████████████████████████████████████████████████████████████████████████| 20/20 [00:00<00:00, 144.75it/s]\n",
      "100%|█████████████████████████████████████████████████████████████████████████████████| 20/20 [00:00<00:00, 171.40it/s]\n"
     ]
    },
    {
     "data": {
      "image/png": "[encoded data removed]",
      "text/plain": [
       "<Figure size 432x288 with 1 Axes>"
      ]
     },
     "metadata": {
      "needs_background": "light"
     },
     "output_type": "display_data"
    }
   ],
   "source": [
    "runs = 2\n",
    "avg_s_comp = np.zeros((10, 20))\n",
    "for i in range(0, runs):\n",
    "    avg_s_comp[i] = sample_comp(20, perceptron)\n",
    "plt.figure()\n",
    "plt.plot(range(1,20 + 1),np.mean(avg_s_comp,axis=0))\n",
    "plt.xlabel('dimension n')\n",
    "plt.ylabel('sample complexity m')\n",
    "plt.title('sample complexity')\n",
    "plt.show()"
   ]
  },
  {
   "cell_type": "code",
   "execution_count": null,
   "metadata": {},
   "outputs": [],
   "source": []
  }
 ],
 "metadata": {
  "kernelspec": {
   "display_name": "Python 3",
   "language": "python",
   "name": "python3"
  },
  "language_info": {
   "codemirror_mode": {
    "name": "ipython",
    "version": 3
   },
   "file_extension": ".py",
   "mimetype": "text/x-python",
   "name": "python",
   "nbconvert_exporter": "python",
   "pygments_lexer": "ipython3",
   "version": "3.7.3"
  }
 },
 "nbformat": 4,
 "nbformat_minor": 2
}
