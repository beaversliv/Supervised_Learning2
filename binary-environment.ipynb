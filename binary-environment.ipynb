{
 "cells": [
  {
   "cell_type": "markdown",
   "metadata": {},
   "source": [
    "## Set Up\n",
    "\n",
    "We import our code and any frequently used libraries, and set up our data."
   ]
  },
  {
   "cell_type": "code",
   "execution_count": 172,
   "metadata": {},
   "outputs": [
    {
     "name": "stdout",
     "output_type": "stream",
     "text": [
      "The autoreload extension is already loaded. To reload it, use:\n",
      "  %reload_ext autoreload\n"
     ]
    }
   ],
   "source": [
    "%load_ext autoreload\n",
    "%autoreload 2"
   ]
  },
  {
   "cell_type": "code",
   "execution_count": 173,
   "metadata": {},
   "outputs": [],
   "source": [
    "import pandas as pd\n",
    "import numpy as np\n",
    "from tqdm import tqdm"
   ]
  },
  {
   "cell_type": "code",
   "execution_count": 176,
   "metadata": {},
   "outputs": [],
   "source": [
    "from kernels import polynomial_kernel\n",
    "from perceptrons import OneVsAllKernelPerceptron, KernelPerceptron, SpeedyKernelPerceptron"
   ]
  },
  {
   "cell_type": "markdown",
   "metadata": {},
   "source": [
    "<b> Let's initially work with a smaller dataset until we sort out inner and outer efficiency issues (i.e. using one-vs-all and making the individual perceptrons more efficient) <b>"
   ]
  },
  {
   "cell_type": "code",
   "execution_count": 177,
   "metadata": {},
   "outputs": [],
   "source": [
    "df = pd.read_csv('zipcombo.dat', sep=' ', header=None).drop(columns=[257])\n",
    "df.rename(columns={0: 'label'}, inplace=True)\n",
    "X = df[list(range(1, 257))].values\n",
    "y = df['label'].values.astype(np.int)"
   ]
  },
  {
   "cell_type": "code",
   "execution_count": 178,
   "metadata": {},
   "outputs": [],
   "source": [
    "def subsample(df, classes, sample_size=100):\n",
    "    # sampling\n",
    "    df_small = pd.DataFrame()\n",
    "    for clazz in classes:\n",
    "        df_clazz = df[df['y'] == clazz]\n",
    "        df_sample = df_clazz.sample(sample_size)\n",
    "        df_small = df_small.append(df_sample)\n",
    "\n",
    "    #shuffle\n",
    "    df_small = df_small.sample(frac=1.)\n",
    "\n",
    "    X_small = df_small.drop(columns='y').values\n",
    "    y_small = df_small['y'].values\n",
    "    \n",
    "    return X_small, y_small"
   ]
  },
  {
   "cell_type": "code",
   "execution_count": 179,
   "metadata": {},
   "outputs": [],
   "source": [
    "#df = pd.DataFrame(X)\n",
    "#df['y'] = y\n",
    "#X, y = subsample(df, list(range(10)), sample_size=10)"
   ]
  },
  {
   "cell_type": "markdown",
   "metadata": {},
   "source": [
    "### Binarize Dataset for Two Chosen Classes"
   ]
  },
  {
   "cell_type": "code",
   "execution_count": 180,
   "metadata": {},
   "outputs": [],
   "source": [
    "y1 = 1\n",
    "y2 = 2\n",
    "\n",
    "ix_y1 = (y == y1)\n",
    "ix_y2 = (y == y2)\n",
    "\n",
    "y[ix_y1] = 1\n",
    "y[ix_y2] = -1\n",
    "\n",
    "X = X[np.logical_or(ix_y1, ix_y2)]\n",
    "y = y[np.logical_or(ix_y1, ix_y2)]\n",
    "\n"
   ]
  },
  {
   "cell_type": "code",
   "execution_count": 181,
   "metadata": {},
   "outputs": [
    {
     "name": "stdout",
     "output_type": "stream",
     "text": [
      "2198\n",
      "[ 1  1  1 ...  1 -1  1]\n"
     ]
    }
   ],
   "source": [
    "print(len(X))\n",
    "print(y)"
   ]
  },
  {
   "cell_type": "markdown",
   "metadata": {},
   "source": [
    "### Experiment with Perceptron!"
   ]
  },
  {
   "cell_type": "code",
   "execution_count": 209,
   "metadata": {},
   "outputs": [],
   "source": [
    "from sklearn.model_selection import train_test_split\n",
    "from sklearn.metrics import accuracy_score\n",
    "\n",
    "def basic_run(X_train, X_test, y_train, y_test, kernel, epochs=2):    \n",
    "    #fit model\n",
    "    mkp = SpeedyKernelPerceptron(X_train, y_train, kernel)\n",
    "    mkp.train_for_epochs(epochs, progress=True)\n",
    "    \n",
    "    #return errors\n",
    "    error_train = accuracy_score(y_train, mkp.predict_all(X_train))\n",
    "    error_test = accuracy_score(y_test, mkp.predict_all(X_test))\n",
    "    \n",
    "    return {'err_train': error_train, 'err_test': error_test, 'model': mkp}"
   ]
  },
  {
   "cell_type": "code",
   "execution_count": 210,
   "metadata": {},
   "outputs": [
    {
     "data": {
      "text/plain": [
       "array([ True,  True,  True])"
      ]
     },
     "execution_count": 210,
     "metadata": {},
     "output_type": "execute_result"
    }
   ],
   "source": [
    "np.zeros(3) == 0"
   ]
  },
  {
   "cell_type": "code",
   "execution_count": 216,
   "metadata": {},
   "outputs": [
    {
     "name": "stderr",
     "output_type": "stream",
     "text": [
      "\n",
      "\n",
      "\n",
      "\n",
      "\n",
      "\n",
      "\n",
      "\n",
      "\n",
      "  0%|          | 0/10 [00:00<?, ?it/s]\u001b[A\u001b[A\u001b[A\u001b[A\u001b[A\u001b[A\u001b[A\u001b[A\u001b[A\n",
      "\n",
      "\n",
      "\n",
      "\n",
      "\n",
      "\n",
      "\n",
      "\n",
      " 20%|██        | 2/10 [00:00<00:00, 17.76it/s]\u001b[A\u001b[A\u001b[A\u001b[A\u001b[A\u001b[A\u001b[A\u001b[A\u001b[A\n",
      "\n",
      "\n",
      "\n",
      "\n",
      "\n",
      "\n",
      "\n",
      "\n",
      "100%|██████████| 10/10 [00:00<00:00, 59.68it/s]\u001b[A\u001b[A\u001b[A\u001b[A\u001b[A\u001b[A\u001b[A\u001b[A\u001b[A"
     ]
    },
    {
     "data": {
      "text/plain": [
       "{'err_train': 1.0,\n",
       " 'err_test': 0.9954545454545455,\n",
       " 'model': <perceptrons.SpeedyKernelPerceptron at 0x1a10ec49b0>}"
      ]
     },
     "execution_count": 216,
     "metadata": {},
     "output_type": "execute_result"
    }
   ],
   "source": [
    "X_train, X_test, y_train, y_test = train_test_split(X, y, train_size=0.8, test_size=0.2)\n",
    "\n",
    "basic_run(X_train, X_test, y_train, y_test, polynomial_kernel(3), 10)"
   ]
  },
  {
   "cell_type": "code",
   "execution_count": 192,
   "metadata": {},
   "outputs": [
    {
     "data": {
      "text/plain": [
       "(array([13, 23, 35]),)"
      ]
     },
     "execution_count": 192,
     "metadata": {},
     "output_type": "execute_result"
    }
   ],
   "source": [
    "FR = np.zeros(36)\n",
    "FR[23] = 1.\n",
    "FR[13] = 1.\n",
    "FR[35] = -2.\n",
    "FR.nonzero()"
   ]
  },
  {
   "cell_type": "code",
   "execution_count": 171,
   "metadata": {},
   "outputs": [
    {
     "data": {
      "text/plain": [
       "True"
      ]
     },
     "execution_count": 171,
     "metadata": {},
     "output_type": "execute_result"
    }
   ],
   "source": [
    "np.zeros(3).nonzero()[0].size == 0"
   ]
  },
  {
   "cell_type": "code",
   "execution_count": 217,
   "metadata": {},
   "outputs": [
    {
     "name": "stdout",
     "output_type": "stream",
     "text": [
      "Training Accuracy: 0.5745164960182025\n",
      "Test Accuracy: 0.5886363636363636\n",
      "Training Accuracy: 0.9994311717861206\n",
      "Test Accuracy: 1.0\n",
      "Training Accuracy: 1.0\n",
      "Test Accuracy: 0.9977272727272727\n",
      "Training Accuracy: 1.0\n",
      "Test Accuracy: 0.9977272727272727\n",
      "Training Accuracy: 1.0\n",
      "Test Accuracy: 0.9977272727272727\n",
      "Training Accuracy: 1.0\n",
      "Test Accuracy: 0.9977272727272727\n",
      "Training Accuracy: 1.0\n",
      "Test Accuracy: 0.9977272727272727\n",
      "Training Accuracy: 1.0\n",
      "Test Accuracy: 0.9977272727272727\n",
      "Training Accuracy: 1.0\n",
      "Test Accuracy: 0.9977272727272727\n",
      "Training Accuracy: 1.0\n",
      "Test Accuracy: 0.9977272727272727\n"
     ]
    }
   ],
   "source": [
    "X_train, X_test, y_train, y_test = train_test_split(X, y, train_size=0.8, test_size=0.2)\n",
    "\n",
    "epochs = 10\n",
    "kp = SpeedyKernelPerceptron(X_train, y_train, polynomial_kernel(3))\n",
    "for epoch in list(range(epochs)):\n",
    "    error_train = accuracy_score(y_train, kp.predict_all(X_train))\n",
    "    error_test = accuracy_score(y_test, kp.predict_all(X_test))\n",
    "    kp.run_training_epoch()\n",
    "    print('Training Accuracy:', error_train)\n",
    "    print('Test Accuracy:', error_test)"
   ]
  },
  {
   "cell_type": "code",
   "execution_count": 93,
   "metadata": {},
   "outputs": [
    {
     "data": {
      "text/plain": [
       "[<1x1758 sparse matrix of type '<class 'numpy.float64'>'\n",
       " \twith 18 stored elements in Compressed Sparse Row format>,\n",
       " <1x1758 sparse matrix of type '<class 'numpy.float64'>'\n",
       " \twith 4 stored elements in Compressed Sparse Row format>]"
      ]
     },
     "execution_count": 93,
     "metadata": {},
     "output_type": "execute_result"
    }
   ],
   "source": [
    "kp.past_alphas"
   ]
  },
  {
   "cell_type": "code",
   "execution_count": 51,
   "metadata": {},
   "outputs": [],
   "source": [
    "kp = KernelPerceptron(X_train, y_train, polynomial_kernel(3))\n"
   ]
  },
  {
   "cell_type": "code",
   "execution_count": 96,
   "metadata": {},
   "outputs": [
    {
     "data": {
      "text/plain": [
       "array([ 1,  1,  1,  1, -1, -1,  1,  1, -1,  1,  1, -1, -1,  1,  1,  1,  1,\n",
       "        1, -1,  1,  1, -1, -1, -1, -1,  1,  1, -1,  1, -1,  1, -1,  1, -1,\n",
       "        1,  1,  1, -1,  1,  1, -1,  1,  1,  1, -1,  1, -1, -1, -1,  1, -1,\n",
       "       -1,  1,  1, -1,  1, -1, -1, -1,  1,  1, -1,  1,  1, -1,  1, -1,  1,\n",
       "        1,  1, -1,  1,  1,  1, -1,  1,  1,  1,  1,  1,  1,  1,  1,  1,  1,\n",
       "       -1, -1,  1,  1, -1,  1, -1,  1, -1,  1, -1,  1,  1,  1,  1, -1, -1,\n",
       "        1, -1, -1, -1,  1, -1,  1,  1,  1,  1, -1,  1,  1, -1, -1, -1,  1,\n",
       "        1, -1,  1, -1,  1, -1, -1,  1, -1,  1,  1, -1,  1, -1, -1,  1,  1,\n",
       "        1,  1, -1, -1, -1, -1,  1,  1, -1, -1,  1,  1,  1, -1, -1,  1,  1,\n",
       "       -1, -1,  1, -1,  1,  1,  1,  1,  1, -1, -1,  1,  1,  1,  1,  1,  1,\n",
       "        1,  1, -1,  1, -1, -1, -1, -1, -1, -1, -1, -1,  1, -1,  1, -1,  1,\n",
       "       -1,  1,  1,  1,  1, -1,  1, -1, -1,  1,  1, -1,  1, -1,  1, -1, -1,\n",
       "        1,  1, -1,  1,  1,  1,  1, -1, -1, -1,  1,  1,  1,  1,  1, -1,  1,\n",
       "        1,  1,  1, -1,  1,  1, -1,  1,  1,  1,  1, -1,  1,  1,  1, -1, -1,\n",
       "       -1,  1,  1,  1, -1,  1,  1,  1,  1, -1,  1, -1,  1,  1,  1,  1, -1,\n",
       "        1,  1, -1,  1,  1, -1,  1,  1, -1,  1,  1, -1,  1,  1,  1,  1,  1,\n",
       "       -1, -1,  1, -1,  1,  1, -1,  1,  1, -1,  1, -1, -1, -1,  1, -1, -1,\n",
       "       -1, -1,  1, -1,  1,  1,  1,  1, -1, -1,  1,  1,  1,  1,  1,  1,  1,\n",
       "       -1, -1, -1,  1, -1, -1,  1,  1,  1, -1, -1, -1,  1, -1, -1,  1,  1,\n",
       "        1,  1, -1,  1, -1,  1, -1, -1,  1,  1,  1,  1, -1, -1,  1, -1,  1,\n",
       "        1, -1,  1,  1,  1,  1, -1,  1,  1,  1,  1, -1, -1, -1,  1,  1, -1,\n",
       "       -1, -1,  1, -1,  1, -1, -1,  1, -1,  1,  1,  1,  1,  1,  1,  1, -1,\n",
       "        1, -1,  1,  1,  1,  1,  1, -1,  1,  1, -1,  1,  1, -1, -1, -1, -1,\n",
       "        1, -1, -1,  1, -1,  1, -1,  1,  1,  1,  1, -1,  1,  1, -1,  1, -1,\n",
       "        1, -1, -1, -1,  1, -1,  1,  1, -1,  1,  1,  1, -1,  1,  1, -1,  1,\n",
       "       -1, -1, -1, -1, -1,  1,  1, -1, -1, -1,  1, -1,  1, -1, -1])"
      ]
     },
     "execution_count": 96,
     "metadata": {},
     "output_type": "execute_result"
    }
   ],
   "source": [
    "kp.predict_all(X_test)"
   ]
  },
  {
   "cell_type": "code",
   "execution_count": 53,
   "metadata": {},
   "outputs": [
    {
     "data": {
      "text/plain": [
       "array([1, 1, 1, 1, 1, 1, 1, 1, 1, 1, 1, 1, 1, 1, 1, 1, 1, 1, 1, 1, 1, 1,\n",
       "       1, 1, 1, 1, 1, 1, 1, 1, 1, 1, 1, 1, 1, 1, 1, 1, 1, 1, 1, 1, 1, 1,\n",
       "       1, 1, 1, 1, 1, 1, 1, 1, 1, 1, 1, 1, 1, 1, 1, 1, 1, 1, 1, 1, 1, 1,\n",
       "       1, 1, 1, 1, 1, 1, 1, 1, 1, 1, 1, 1, 1, 1, 1, 1, 1, 1, 1, 1, 1, 1,\n",
       "       1, 1, 1, 1, 1, 1, 1, 1, 1, 1, 1, 1, 1, 1, 1, 1, 1, 1, 1, 1, 1, 1,\n",
       "       1, 1, 1, 1, 1, 1, 1, 1, 1, 1, 1, 1, 1, 1, 1, 1, 1, 1, 1, 1, 1, 1,\n",
       "       1, 1, 1, 1, 1, 1, 1, 1, 1, 1, 1, 1, 1, 1, 1, 1, 1, 1, 1, 1, 1, 1,\n",
       "       1, 1, 1, 1, 1, 1, 1, 1, 1, 1, 1, 1, 1, 1, 1, 1, 1, 1, 1, 1, 1, 1,\n",
       "       1, 1, 1, 1, 1, 1, 1, 1, 1, 1, 1, 1, 1, 1, 1, 1, 1, 1, 1, 1, 1, 1,\n",
       "       1, 1, 1, 1, 1, 1, 1, 1, 1, 1, 1, 1, 1, 1, 1, 1, 1, 1, 1, 1, 1, 1,\n",
       "       1, 1, 1, 1, 1, 1, 1, 1, 1, 1, 1, 1, 1, 1, 1, 1, 1, 1, 1, 1, 1, 1,\n",
       "       1, 1, 1, 1, 1, 1, 1, 1, 1, 1, 1, 1])"
      ]
     },
     "execution_count": 53,
     "metadata": {},
     "output_type": "execute_result"
    }
   ],
   "source": [
    "y_test"
   ]
  },
  {
   "cell_type": "code",
   "execution_count": 55,
   "metadata": {},
   "outputs": [
    {
     "data": {
      "text/plain": [
       "1269"
      ]
     },
     "execution_count": 55,
     "metadata": {},
     "output_type": "execute_result"
    }
   ],
   "source": [
    "len(y)"
   ]
  },
  {
   "cell_type": "code",
   "execution_count": 56,
   "metadata": {},
   "outputs": [
    {
     "data": {
      "text/plain": [
       "1269"
      ]
     },
     "execution_count": 56,
     "metadata": {},
     "output_type": "execute_result"
    }
   ],
   "source": [
    "y.sum()"
   ]
  },
  {
   "cell_type": "code",
   "execution_count": 109,
   "metadata": {},
   "outputs": [],
   "source": [
    "from scipy.sparse import coo_matrix"
   ]
  },
  {
   "cell_type": "code",
   "execution_count": 117,
   "metadata": {},
   "outputs": [],
   "source": [
    "x = csr_matrix(np.zeros(9000))\n",
    "y = csr_matrix(np.random.rand(9000))"
   ]
  },
  {
   "cell_type": "code",
   "execution_count": 118,
   "metadata": {},
   "outputs": [
    {
     "name": "stdout",
     "output_type": "stream",
     "text": [
      "143 µs ± 1.84 µs per loop (mean ± std. dev. of 7 runs, 10000 loops each)\n"
     ]
    }
   ],
   "source": [
    "%timeit x.multiply(y)"
   ]
  },
  {
   "cell_type": "code",
   "execution_count": 132,
   "metadata": {},
   "outputs": [
    {
     "name": "stdout",
     "output_type": "stream",
     "text": [
      "538 µs ± 9.55 µs per loop (mean ± std. dev. of 7 runs, 1000 loops each)\n"
     ]
    }
   ],
   "source": [
    "%timeit kp.predict_training_pt(0)"
   ]
  },
  {
   "cell_type": "code",
   "execution_count": 135,
   "metadata": {},
   "outputs": [
    {
     "data": {
      "text/plain": [
       "1076000"
      ]
     },
     "execution_count": 135,
     "metadata": {},
     "output_type": "execute_result"
    }
   ],
   "source": [
    "538 * 2000"
   ]
  },
  {
   "cell_type": "code",
   "execution_count": 136,
   "metadata": {},
   "outputs": [
    {
     "data": {
      "text/plain": [
       "1.076"
      ]
     },
     "execution_count": 136,
     "metadata": {},
     "output_type": "execute_result"
    }
   ],
   "source": [
    "1076000/1000000"
   ]
  },
  {
   "cell_type": "code",
   "execution_count": null,
   "metadata": {},
   "outputs": [],
   "source": []
  }
 ],
 "metadata": {
  "kernelspec": {
   "display_name": "Python 3",
   "language": "python",
   "name": "python3"
  },
  "language_info": {
   "codemirror_mode": {
    "name": "ipython",
    "version": 3
   },
   "file_extension": ".py",
   "mimetype": "text/x-python",
   "name": "python",
   "nbconvert_exporter": "python",
   "pygments_lexer": "ipython3",
   "version": "3.6.5"
  }
 },
 "nbformat": 4,
 "nbformat_minor": 2
}
